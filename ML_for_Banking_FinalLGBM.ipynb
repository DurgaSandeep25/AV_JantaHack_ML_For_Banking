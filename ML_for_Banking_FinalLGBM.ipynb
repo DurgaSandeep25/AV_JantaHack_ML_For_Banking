{
  "nbformat": 4,
  "nbformat_minor": 0,
  "metadata": {
    "colab": {
      "name": "ML for Banking.ipynb",
      "provenance": [],
      "collapsed_sections": []
    },
    "kernelspec": {
      "name": "python3",
      "display_name": "Python 3"
    }
  },
  "cells": [
    {
      "cell_type": "code",
      "metadata": {
        "id": "FFb_5qiqkB4X",
        "colab_type": "code",
        "colab": {}
      },
      "source": [
        "from google.colab import drive\n",
        "drive.mount('/content/drive')"
      ],
      "execution_count": 0,
      "outputs": []
    },
    {
      "cell_type": "code",
      "metadata": {
        "id": "PAlUuGD0zZV3",
        "colab_type": "code",
        "colab": {}
      },
      "source": [
        "! pip install feature-engine"
      ],
      "execution_count": 0,
      "outputs": []
    },
    {
      "cell_type": "code",
      "metadata": {
        "id": "fjjlWeyfkOts",
        "colab_type": "code",
        "colab": {}
      },
      "source": [
        "import pandas as pd\n",
        "import numpy as np\n",
        "import matplotlib.pyplot as plt\n",
        "import seaborn as sns\n",
        "from imblearn.over_sampling import SMOTE\n",
        "from collections import Counter\n",
        "from sklearn.preprocessing import LabelEncoder"
      ],
      "execution_count": 0,
      "outputs": []
    },
    {
      "cell_type": "code",
      "metadata": {
        "id": "Xz2cU5hXkhi6",
        "colab_type": "code",
        "colab": {}
      },
      "source": [
        "train = pd.read_csv('/content/drive/My Drive/ML for Banking/train_fNxu4vz.csv')\n",
        "test = pd.read_csv('/content/drive/My Drive/ML for Banking/test_fjtUOL8.csv')\n",
        "ss = pd.read_csv('/content/drive/My Drive/ML for Banking/sample_submission_HSqiq1Q.csv')"
      ],
      "execution_count": 0,
      "outputs": []
    },
    {
      "cell_type": "code",
      "metadata": {
        "id": "virxbxoImPxV",
        "colab_type": "code",
        "colab": {}
      },
      "source": [
        "train['Loan_Amount_Requested'] = train['Loan_Amount_Requested'].str.replace(',','').astype(float)\n",
        "test['Loan_Amount_Requested'] = test['Loan_Amount_Requested'].str.replace(',','').astype(float)\n",
        "\n",
        "# train.drop(['Months_Since_Deliquency'],axis=1,inplace=True)\n",
        "# test.drop(['Months_Since_Deliquency'],axis=1,inplace=True)"
      ],
      "execution_count": 0,
      "outputs": []
    },
    {
      "cell_type": "markdown",
      "metadata": {
        "id": "DS53-rN8cjpc",
        "colab_type": "text"
      },
      "source": [
        "# Feature Engineering"
      ]
    },
    {
      "cell_type": "code",
      "metadata": {
        "id": "OnMzh7gPgzIz",
        "colab_type": "code",
        "colab": {}
      },
      "source": [
        "train_pre = train.copy()\n",
        "test_pre = test.copy()\n",
        "\n",
        "# num_cols = ['Loan_Amount_Requested', 'Debt_To_Income']\n",
        "# int_cols = ['Inquiries_Last_6Mo','Number_Open_Accounts','Total_Accounts']\n",
        "# cat_cols = ['Income_Verified','Purpose_Of_Loan','Gender']\n",
        "# count = 1\n",
        "# for cat_col in cat_cols:\n",
        "#   for num_col in num_cols:\n",
        "#     train_pre['feature'+str(count)] = train.groupby(cat_col)[num_col].transform('mean')\n",
        "#     test_pre['feature'+str(count)] = test[cat_col].replace(dict(train.groupby(cat_col)[num_col].mean()))\n",
        "\n",
        "#     train_pre['feature'+str(count+1)] = train_pre[num_col] - train_pre['feature'+str(count)]\n",
        "#     test_pre['feature'+str(count+1)] = test_pre[num_col] - test_pre['feature'+str(count)]\n",
        "#     count += 2\n",
        "\n",
        "# for cat_col in cat_cols:\n",
        "#   for num_col in int_cols:\n",
        "#     train_pre['feature'+str(count)] = train.groupby(cat_col)[num_col].transform('median')\n",
        "#     test_pre['feature'+str(count)] = test[cat_col].replace(dict(train.groupby(cat_col)[num_col].median()))\n",
        "\n",
        "#     train_pre['feature'+str(count+1)] = train_pre[num_col] - train_pre['feature'+str(count)]\n",
        "#     test_pre['feature'+str(count+1)] = test_pre[num_col] - test_pre['feature'+str(count)]\n",
        "#     count += 2\n"
      ],
      "execution_count": 0,
      "outputs": []
    },
    {
      "cell_type": "code",
      "metadata": {
        "id": "sVGE5b0ROQNV",
        "colab_type": "code",
        "colab": {}
      },
      "source": [
        "train['Home_Owner_fill'] = train['Home_Owner'].fillna('missing')\n",
        "test['Home_Owner_fill'] = test['Home_Owner'].fillna('missing')"
      ],
      "execution_count": 0,
      "outputs": []
    },
    {
      "cell_type": "code",
      "metadata": {
        "id": "l-_ahFFxcubY",
        "colab_type": "code",
        "colab": {}
      },
      "source": [
        "test_pre['Interest_Rate'] = np.NaN\n",
        "\n",
        "# Label Encoding\n",
        "# keys = train['Length_Employed'].unique().tolist()\n",
        "# values = [0,4,7,8,2,11,1,np.NaN,6,9,3,5]\n",
        "# dict_map = dict(zip(keys,values))\n",
        "# train_pre['Length_Employed'] = train['Length_Employed'].replace(dict_map)\n",
        "# test_pre['Length_Employed'] = test['Length_Employed'].replace(dict_map)\n",
        "\n",
        "# keys = train['Gender'].unique().tolist()\n",
        "# values = [0,1]\n",
        "# dict_map = dict(zip(keys,values))\n",
        "# train_pre['Gender'] = train['Gender'].replace(dict_map)\n",
        "# test_pre['Gender'] = test['Gender'].replace(dict_map)\n",
        "\n",
        "# Label Encode\n",
        "le = LabelEncoder()\n",
        "train_pre[\"Length_Employed\"] = train_pre[\"Length_Employed\"].fillna('missing')\n",
        "test_pre[\"Length_Employed\"] = test_pre['Length_Employed'].fillna('missing')\n",
        "\n",
        "train_pre[\"Length_Employed\"] = le.fit_transform(train_pre[\"Length_Employed\"])\n",
        "test_pre[\"Length_Employed\"] = le.transform(test_pre[\"Length_Employed\"])\n",
        "\n",
        "train_pre[\"Gender\"] = le.fit_transform(train_pre[\"Gender\"])\n",
        "test_pre[\"Gender\"] = le.transform(test_pre[\"Gender\"])\n",
        "\n",
        "# Label Encoding / One Hot Encoding\n",
        "\n",
        "# Missing values\n",
        "import feature_engine.missing_data_imputers as mdi\n",
        "imputer = mdi.CategoricalVariableImputer(imputation_method = 'missing',variables=['Home_Owner'])\n",
        "imputer.fit(train_pre)\n",
        "\n",
        "mean_imputer = mdi.MeanMedianImputer(imputation_method='mean', variables=['Annual_Income','Length_Employed'])\n",
        "mean_imputer.fit(train_pre)\n",
        "\n",
        "# transform the data\n",
        "train_pre= imputer.transform(train_pre)\n",
        "test_pre= imputer.transform(test_pre)\n",
        "\n",
        "train_pre= mean_imputer.transform(train_pre)\n",
        "test_pre= mean_imputer.transform(test_pre)\n",
        "\n",
        "from feature_engine import categorical_encoders as ce\n",
        "# set up the encoder\n",
        "encoder = ce.OneHotCategoricalEncoder(variables=['Home_Owner', 'Income_Verified', 'Purpose_Of_Loan'],\n",
        "                                      drop_last=True)\n",
        "# fit the encoder\n",
        "encoder.fit(train_pre)\n",
        "\n",
        "# transform the data\n",
        "train_pre= encoder.transform(train_pre)\n",
        "test_pre= encoder.transform(test_pre)\n",
        "\n",
        "train_pre[\"Home_Owner\"] = le.fit_transform(train[\"Home_Owner_fill\"])\n",
        "test_pre[\"Home_Owner\"] = le.transform(test[\"Home_Owner_fill\"])\n",
        "\n",
        "train_pre[\"Income_Verified\"] = le.fit_transform(train[\"Income_Verified\"])\n",
        "test_pre[\"Income_Verified\"] = le.transform(test[\"Income_Verified\"])\n",
        "\n",
        "train_pre[\"Purpose_Of_Loan\"] = le.fit_transform(train[\"Purpose_Of_Loan\"])\n",
        "test_pre[\"Purpose_Of_Loan\"] = le.transform(test[\"Purpose_Of_Loan\"])"
      ],
      "execution_count": 0,
      "outputs": []
    },
    {
      "cell_type": "code",
      "metadata": {
        "id": "8akhheOq4dm7",
        "colab_type": "code",
        "colab": {}
      },
      "source": [
        "# train_pre['Loan_Amount_Requested'] = np.log1p(train_pre['Loan_Amount_Requested'])\n",
        "# test_pre['Loan_Amount_Requested'] = np.log1p(test_pre['Loan_Amount_Requested'])\n",
        "\n",
        "# train_pre['Annual_Income'] = np.log1p(train_pre['Annual_Income'])\n",
        "# test_pre['Annual_Income'] = np.log1p(test_pre['Annual_Income'])"
      ],
      "execution_count": 0,
      "outputs": []
    },
    {
      "cell_type": "code",
      "metadata": {
        "id": "ZGNlvpm4uj-m",
        "colab_type": "code",
        "colab": {}
      },
      "source": [
        "# # Label Encode\n",
        "# le = LabelEncoder()\n",
        "# train_pre[\"Length_Employed\"] = le.fit_transform(train_pre[\"Length_Employed\"])\n",
        "# test_pre[\"Length_Employed\"] = le.transform(test_pre[\"Length_Employed\"])\n",
        "\n",
        "# train_pre[\"Home_Owner\"] = le.fit_transform(train_pre[\"Home_Owner\"])\n",
        "# test_pre[\"Home_Owner\"] = le.transform(test_pre[\"Home_Owner\"])\n",
        "\n",
        "# train_pre[\"Income_Verified\"] = le.fit_transform(train_pre[\"Income_Verified\"])\n",
        "# test_pre[\"Income_Verified\"] = le.transform(test_pre[\"Income_Verified\"])\n",
        "\n",
        "# train_pre[\"Purpose_Of_Loan\"] = le.fit_transform(train_pre[\"Purpose_Of_Loan\"])\n",
        "# test_pre[\"Purpose_Of_Loan\"] = le.transform(test_pre[\"Purpose_Of_Loan\"])\n",
        "\n",
        "# train_pre[\"Gender\"] = le.fit_transform(train_pre[\"Gender\"])\n",
        "# test_pre[\"Gender\"] = le.transform(test_pre[\"Gender\"])"
      ],
      "execution_count": 0,
      "outputs": []
    },
    {
      "cell_type": "code",
      "metadata": {
        "id": "2ikNf55z4bk6",
        "colab_type": "code",
        "colab": {}
      },
      "source": [
        ""
      ],
      "execution_count": 0,
      "outputs": []
    },
    {
      "cell_type": "code",
      "metadata": {
        "id": "lLiD53JEt_pS",
        "colab_type": "code",
        "colab": {}
      },
      "source": [
        "# New feature\n",
        "train_pre[\"Number_Invalid_Acc\"] = train_pre[\"Total_Accounts\"] - train_pre[\"Number_Open_Accounts\"]\n",
        "test_pre[\"Number_Invalid_Acc\"] = test_pre[\"Total_Accounts\"] - test_pre[\"Number_Open_Accounts\"]\n",
        "\n",
        "# New feature\n",
        "train_pre[\"Number_Years_To_Repay_Debt\"] = train_pre[\"Loan_Amount_Requested\"]/train_pre[\"Annual_Income\"]\n",
        "test_pre[\"Number_Years_To_Repay_Debt\"] = test_pre[\"Loan_Amount_Requested\"]/test_pre[\"Annual_Income\"]\n",
        "\n",
        "# # Interaction features\n",
        "# interaction1=train_pre['Income_Verified']+'_'+train_pre['Home_Owner']\n",
        "# interaction2=train_pre['Income_Verified']+'_'+train_pre['Purpose_Of_Loan']\n",
        "# interaction3=train_pre['Income_Verified']+'_'+train_pre['Gender']\n",
        "\n",
        "# interaction4=train_pre['Home_Owner']+'_'+train_pre['Purpose_Of_Loan']\n",
        "# interaction5=train_pre['Home_Owner']+'_'+train_pre['Gender']\n",
        "\n",
        "# interaction6=df['Purpose_Of_Loan']+'_'+df['Gender']\n",
        "\n",
        "# train_pre['T_C']=interaction1\n",
        "# train_pre['T_D']=interaction2\n",
        "# train_pre['T_G']=interaction3\n",
        "# train_pre['C_D']=interaction4\n",
        "# train_pre['C_G']=interaction5\n",
        "# train_pre['D_G']=interaction6\n"
      ],
      "execution_count": 0,
      "outputs": []
    },
    {
      "cell_type": "markdown",
      "metadata": {
        "id": "uUHYonMmu9LJ",
        "colab_type": "text"
      },
      "source": [
        "# LGBM with weighted F1"
      ]
    },
    {
      "cell_type": "code",
      "metadata": {
        "id": "017ZFj2zsHdt",
        "colab_type": "code",
        "colab": {}
      },
      "source": [
        "from sklearn.metrics import f1_score\n",
        "from lightgbm import LGBMClassifier\n",
        "from sklearn.model_selection import StratifiedKFold\n",
        "import time\n",
        "def weightedF1(truth, predictions):  \n",
        "    # this follows the discussion in https://github.com/Microsoft/LightGBM/issues/1483\n",
        "    pred_labels = predictions.reshape(len(np.unique(truth)),-1).argmax(axis=0)\n",
        "    f1 = f1_score(truth, pred_labels, average='weighted')\n",
        "    return ('weightedF1', f1, True) "
      ],
      "execution_count": 0,
      "outputs": []
    },
    {
      "cell_type": "code",
      "metadata": {
        "id": "Vrz47PA8v6iW",
        "colab_type": "code",
        "colab": {}
      },
      "source": [
        "train_data = train_pre.drop(['Loan_ID'],axis=1).copy()\n",
        "test_data = test_pre.drop(['Interest_Rate', 'Loan_ID'],axis=1).copy()"
      ],
      "execution_count": 0,
      "outputs": []
    },
    {
      "cell_type": "code",
      "metadata": {
        "id": "OPFTYb3AyOQ8",
        "colab_type": "code",
        "colab": {}
      },
      "source": [
        "# drop_cols = sorted_df.index.values.tolist()[:36]\n",
        "# train_data = train_pre.drop(drop_cols,axis=1).copy()\n",
        "# test_data = test_pre.drop(['Interest_Rate'] + drop_cols,axis=1).copy()"
      ],
      "execution_count": 0,
      "outputs": []
    },
    {
      "cell_type": "code",
      "metadata": {
        "id": "diKuPkpisdzm",
        "colab_type": "code",
        "outputId": "3a46ec7f-8715-48ae-c546-4b47f72f6ecc",
        "colab": {
          "base_uri": "https://localhost:8080/",
          "height": 1000
        }
      },
      "source": [
        "max_iter = 5\n",
        "folds = StratifiedKFold(n_splits = max_iter)\n",
        "f1_scores = []\n",
        "oofs = np.zeros(len(train_data))\n",
        "preds_test = np.zeros(len(test_data))\n",
        "preds_test1 = np.zeros(len(test_data))\n",
        "preds_test2 = np.zeros(len(test_data))\n",
        "\n",
        "train = train_data.drop(['Interest_Rate'],axis=1)\n",
        "target = train_data['Interest_Rate']\n",
        "\n",
        "feature_importance_df = pd.DataFrame()\n",
        "for fold_, (trn_idx, val_idx) in enumerate(folds.split(train, target.values)):\n",
        "    \n",
        "    print(f'\\n---- Fold {fold_} -----\\n')\n",
        "    \n",
        "    fold_start_time = time.time()\n",
        "    \n",
        "    X_trn, y_trn = train.iloc[trn_idx], target.iloc[trn_idx]\n",
        "\n",
        "    # Applying class imbalance on only train\n",
        "    sm = SMOTE(random_state=42)\n",
        "    X_trn, y_trn = sm.fit_resample(X_trn, y_trn)\n",
        "\n",
        "\n",
        "    X_val, y_val = train.iloc[val_idx], target.iloc[val_idx]\n",
        "    X_test = test_data #test[features]\n",
        "    \n",
        "    print(X_trn.shape)\n",
        "    \n",
        "    clf = LGBMClassifier( n_estimators = 5000, learning_rate = 0.01, num_leaves=200, max_depth=4, colsample_by_tree =2, reg_alpha=0.5, reg_lambda=0.5, \n",
        "                        bagging_freq=1, bagging_fraction=0.8, max_bin=50)\n",
        "    _ = clf.fit(X_trn, y_trn, eval_set = [(X_trn, y_trn), (X_val, y_val)], eval_metric = weightedF1, verbose = 100, early_stopping_rounds = 200)\n",
        "    \n",
        "    oofs[val_idx] = clf.predict(X_val)\n",
        "    preds_test += clf.predict_proba(test_data)[:,0]/max_iter\n",
        "    preds_test1 += clf.predict_proba(test_data)[:,1]/max_iter\n",
        "    preds_test2 += clf.predict_proba(test_data)[:,2]/max_iter\n",
        "\n",
        "    f1_scores += [f1_score(y_val,oofs[val_idx],average='weighted')]\n",
        "\n",
        "    print('\\n Weighted F1 score of validation :', f1_score(y_val,oofs[val_idx],average='weighted'))\n",
        "\n",
        "    fold_importance_df = pd.DataFrame({'feature': X_trn.columns.tolist(), 'importance': clf.feature_importances_})\n",
        "    feature_importance_df = pd.concat([feature_importance_df, fold_importance_df], axis=0)\n",
        "    \n",
        "    fold_end_time = time.time()\n",
        "    total_fold_time = int(fold_end_time - fold_start_time)\n",
        "    \n",
        "    print(f\"\\n->-> Fold ran for {(total_fold_time)//60} minutes {(total_fold_time)%60} seconds\")"
      ],
      "execution_count": 101,
      "outputs": [
        {
          "output_type": "stream",
          "text": [
            "\n",
            "---- Fold 0 -----\n",
            "\n",
            "(131447, 34)\n",
            "Training until validation scores don't improve for 200 rounds.\n",
            "[100]\ttraining's multi_logloss: 0.99498\ttraining's weightedF1: 0.443125\tvalid_1's multi_logloss: 0.996996\tvalid_1's weightedF1: 0.438602\n",
            "[200]\ttraining's multi_logloss: 0.968577\ttraining's weightedF1: 0.46668\tvalid_1's multi_logloss: 0.972046\tvalid_1's weightedF1: 0.460594\n",
            "[300]\ttraining's multi_logloss: 0.953167\ttraining's weightedF1: 0.491804\tvalid_1's multi_logloss: 0.957884\tvalid_1's weightedF1: 0.485718\n",
            "[400]\ttraining's multi_logloss: 0.943113\ttraining's weightedF1: 0.504281\tvalid_1's multi_logloss: 0.949019\tvalid_1's weightedF1: 0.497657\n",
            "[500]\ttraining's multi_logloss: 0.936148\ttraining's weightedF1: 0.512992\tvalid_1's multi_logloss: 0.943051\tvalid_1's weightedF1: 0.505169\n",
            "[600]\ttraining's multi_logloss: 0.930985\ttraining's weightedF1: 0.518769\tvalid_1's multi_logloss: 0.938806\tvalid_1's weightedF1: 0.510144\n",
            "[700]\ttraining's multi_logloss: 0.926971\ttraining's weightedF1: 0.52315\tvalid_1's multi_logloss: 0.93572\tvalid_1's weightedF1: 0.514421\n",
            "[800]\ttraining's multi_logloss: 0.923817\ttraining's weightedF1: 0.526166\tvalid_1's multi_logloss: 0.933368\tvalid_1's weightedF1: 0.5168\n",
            "[900]\ttraining's multi_logloss: 0.921177\ttraining's weightedF1: 0.52884\tvalid_1's multi_logloss: 0.931545\tvalid_1's weightedF1: 0.519351\n",
            "[1000]\ttraining's multi_logloss: 0.91893\ttraining's weightedF1: 0.531002\tvalid_1's multi_logloss: 0.930104\tvalid_1's weightedF1: 0.520134\n",
            "[1100]\ttraining's multi_logloss: 0.916998\ttraining's weightedF1: 0.532774\tvalid_1's multi_logloss: 0.928969\tvalid_1's weightedF1: 0.522742\n",
            "[1200]\ttraining's multi_logloss: 0.915272\ttraining's weightedF1: 0.534425\tvalid_1's multi_logloss: 0.928016\tvalid_1's weightedF1: 0.523815\n",
            "[1300]\ttraining's multi_logloss: 0.913771\ttraining's weightedF1: 0.535766\tvalid_1's multi_logloss: 0.92724\tvalid_1's weightedF1: 0.524693\n",
            "[1400]\ttraining's multi_logloss: 0.91241\ttraining's weightedF1: 0.537088\tvalid_1's multi_logloss: 0.926624\tvalid_1's weightedF1: 0.524883\n",
            "[1500]\ttraining's multi_logloss: 0.91113\ttraining's weightedF1: 0.538441\tvalid_1's multi_logloss: 0.926065\tvalid_1's weightedF1: 0.525468\n",
            "[1600]\ttraining's multi_logloss: 0.909934\ttraining's weightedF1: 0.539355\tvalid_1's multi_logloss: 0.925572\tvalid_1's weightedF1: 0.527176\n",
            "[1700]\ttraining's multi_logloss: 0.908791\ttraining's weightedF1: 0.540355\tvalid_1's multi_logloss: 0.925124\tvalid_1's weightedF1: 0.526915\n",
            "[1800]\ttraining's multi_logloss: 0.907748\ttraining's weightedF1: 0.541154\tvalid_1's multi_logloss: 0.924746\tvalid_1's weightedF1: 0.528029\n",
            "[1900]\ttraining's multi_logloss: 0.906775\ttraining's weightedF1: 0.542077\tvalid_1's multi_logloss: 0.924452\tvalid_1's weightedF1: 0.527914\n",
            "[2000]\ttraining's multi_logloss: 0.905827\ttraining's weightedF1: 0.543047\tvalid_1's multi_logloss: 0.924154\tvalid_1's weightedF1: 0.528332\n",
            "[2100]\ttraining's multi_logloss: 0.904916\ttraining's weightedF1: 0.543843\tvalid_1's multi_logloss: 0.923892\tvalid_1's weightedF1: 0.528736\n",
            "[2200]\ttraining's multi_logloss: 0.904049\ttraining's weightedF1: 0.544689\tvalid_1's multi_logloss: 0.923669\tvalid_1's weightedF1: 0.529186\n",
            "[2300]\ttraining's multi_logloss: 0.903197\ttraining's weightedF1: 0.545416\tvalid_1's multi_logloss: 0.923444\tvalid_1's weightedF1: 0.529209\n",
            "[2400]\ttraining's multi_logloss: 0.90238\ttraining's weightedF1: 0.546244\tvalid_1's multi_logloss: 0.923265\tvalid_1's weightedF1: 0.529507\n",
            "[2500]\ttraining's multi_logloss: 0.901567\ttraining's weightedF1: 0.546881\tvalid_1's multi_logloss: 0.923084\tvalid_1's weightedF1: 0.529988\n",
            "[2600]\ttraining's multi_logloss: 0.900762\ttraining's weightedF1: 0.547615\tvalid_1's multi_logloss: 0.922914\tvalid_1's weightedF1: 0.530009\n",
            "[2700]\ttraining's multi_logloss: 0.900009\ttraining's weightedF1: 0.548079\tvalid_1's multi_logloss: 0.922767\tvalid_1's weightedF1: 0.529918\n",
            "[2800]\ttraining's multi_logloss: 0.899288\ttraining's weightedF1: 0.54874\tvalid_1's multi_logloss: 0.922651\tvalid_1's weightedF1: 0.530129\n",
            "[2900]\ttraining's multi_logloss: 0.898561\ttraining's weightedF1: 0.549184\tvalid_1's multi_logloss: 0.92253\tvalid_1's weightedF1: 0.529977\n",
            "[3000]\ttraining's multi_logloss: 0.897834\ttraining's weightedF1: 0.54964\tvalid_1's multi_logloss: 0.922394\tvalid_1's weightedF1: 0.53021\n",
            "[3100]\ttraining's multi_logloss: 0.897108\ttraining's weightedF1: 0.550349\tvalid_1's multi_logloss: 0.922283\tvalid_1's weightedF1: 0.530609\n",
            "[3200]\ttraining's multi_logloss: 0.896426\ttraining's weightedF1: 0.551105\tvalid_1's multi_logloss: 0.92222\tvalid_1's weightedF1: 0.529982\n",
            "Early stopping, best iteration is:\n",
            "[3096]\ttraining's multi_logloss: 0.897136\ttraining's weightedF1: 0.550312\tvalid_1's multi_logloss: 0.922286\tvalid_1's weightedF1: 0.530682\n",
            "\n",
            " Weighted F1 score of validation : 0.5306822783804614\n",
            "\n",
            "->-> Fold ran for 10 minutes 50 seconds\n",
            "\n",
            "---- Fold 1 -----\n",
            "\n",
            "(131447, 34)\n",
            "Training until validation scores don't improve for 200 rounds.\n",
            "[100]\ttraining's multi_logloss: 0.995008\ttraining's weightedF1: 0.441031\tvalid_1's multi_logloss: 0.996812\tvalid_1's weightedF1: 0.440071\n",
            "[200]\ttraining's multi_logloss: 0.968625\ttraining's weightedF1: 0.467431\tvalid_1's multi_logloss: 0.971986\tvalid_1's weightedF1: 0.465274\n",
            "[300]\ttraining's multi_logloss: 0.953254\ttraining's weightedF1: 0.4922\tvalid_1's multi_logloss: 0.958012\tvalid_1's weightedF1: 0.486157\n",
            "[400]\ttraining's multi_logloss: 0.943277\ttraining's weightedF1: 0.503962\tvalid_1's multi_logloss: 0.949188\tvalid_1's weightedF1: 0.497762\n",
            "[500]\ttraining's multi_logloss: 0.936388\ttraining's weightedF1: 0.512971\tvalid_1's multi_logloss: 0.943275\tvalid_1's weightedF1: 0.503732\n",
            "[600]\ttraining's multi_logloss: 0.931264\ttraining's weightedF1: 0.519057\tvalid_1's multi_logloss: 0.938971\tvalid_1's weightedF1: 0.508389\n",
            "[700]\ttraining's multi_logloss: 0.927267\ttraining's weightedF1: 0.523487\tvalid_1's multi_logloss: 0.935743\tvalid_1's weightedF1: 0.512765\n",
            "[800]\ttraining's multi_logloss: 0.924142\ttraining's weightedF1: 0.526556\tvalid_1's multi_logloss: 0.93337\tvalid_1's weightedF1: 0.515659\n",
            "[900]\ttraining's multi_logloss: 0.921546\ttraining's weightedF1: 0.528724\tvalid_1's multi_logloss: 0.931466\tvalid_1's weightedF1: 0.518165\n",
            "[1000]\ttraining's multi_logloss: 0.919347\ttraining's weightedF1: 0.530711\tvalid_1's multi_logloss: 0.929926\tvalid_1's weightedF1: 0.520572\n",
            "[1100]\ttraining's multi_logloss: 0.917457\ttraining's weightedF1: 0.532591\tvalid_1's multi_logloss: 0.928707\tvalid_1's weightedF1: 0.521762\n",
            "[1200]\ttraining's multi_logloss: 0.915768\ttraining's weightedF1: 0.534242\tvalid_1's multi_logloss: 0.92764\tvalid_1's weightedF1: 0.523694\n",
            "[1300]\ttraining's multi_logloss: 0.914247\ttraining's weightedF1: 0.535848\tvalid_1's multi_logloss: 0.926731\tvalid_1's weightedF1: 0.525395\n",
            "[1400]\ttraining's multi_logloss: 0.912918\ttraining's weightedF1: 0.536904\tvalid_1's multi_logloss: 0.926018\tvalid_1's weightedF1: 0.525839\n",
            "[1500]\ttraining's multi_logloss: 0.911649\ttraining's weightedF1: 0.53788\tvalid_1's multi_logloss: 0.92533\tvalid_1's weightedF1: 0.526444\n",
            "[1600]\ttraining's multi_logloss: 0.91049\ttraining's weightedF1: 0.53908\tvalid_1's multi_logloss: 0.924748\tvalid_1's weightedF1: 0.527535\n",
            "[1700]\ttraining's multi_logloss: 0.909354\ttraining's weightedF1: 0.539987\tvalid_1's multi_logloss: 0.92419\tvalid_1's weightedF1: 0.527817\n",
            "[1800]\ttraining's multi_logloss: 0.908336\ttraining's weightedF1: 0.540754\tvalid_1's multi_logloss: 0.923746\tvalid_1's weightedF1: 0.528565\n",
            "[1900]\ttraining's multi_logloss: 0.90738\ttraining's weightedF1: 0.541809\tvalid_1's multi_logloss: 0.923371\tvalid_1's weightedF1: 0.529155\n",
            "[2000]\ttraining's multi_logloss: 0.906438\ttraining's weightedF1: 0.542422\tvalid_1's multi_logloss: 0.922998\tvalid_1's weightedF1: 0.529101\n",
            "[2100]\ttraining's multi_logloss: 0.905534\ttraining's weightedF1: 0.543114\tvalid_1's multi_logloss: 0.922694\tvalid_1's weightedF1: 0.529573\n",
            "[2200]\ttraining's multi_logloss: 0.904682\ttraining's weightedF1: 0.543744\tvalid_1's multi_logloss: 0.922426\tvalid_1's weightedF1: 0.529996\n",
            "[2300]\ttraining's multi_logloss: 0.903833\ttraining's weightedF1: 0.544661\tvalid_1's multi_logloss: 0.922158\tvalid_1's weightedF1: 0.530529\n",
            "[2400]\ttraining's multi_logloss: 0.903017\ttraining's weightedF1: 0.545175\tvalid_1's multi_logloss: 0.921923\tvalid_1's weightedF1: 0.530814\n",
            "[2500]\ttraining's multi_logloss: 0.902206\ttraining's weightedF1: 0.546145\tvalid_1's multi_logloss: 0.921709\tvalid_1's weightedF1: 0.530925\n",
            "[2600]\ttraining's multi_logloss: 0.901429\ttraining's weightedF1: 0.546962\tvalid_1's multi_logloss: 0.921512\tvalid_1's weightedF1: 0.531083\n",
            "[2700]\ttraining's multi_logloss: 0.900656\ttraining's weightedF1: 0.547791\tvalid_1's multi_logloss: 0.921332\tvalid_1's weightedF1: 0.530962\n",
            "Early stopping, best iteration is:\n",
            "[2564]\ttraining's multi_logloss: 0.901698\ttraining's weightedF1: 0.546656\tvalid_1's multi_logloss: 0.921573\tvalid_1's weightedF1: 0.531491\n",
            "\n",
            " Weighted F1 score of validation : 0.5314906451557897\n",
            "\n",
            "->-> Fold ran for 8 minutes 51 seconds\n",
            "\n",
            "---- Fold 2 -----\n",
            "\n",
            "(131447, 34)\n",
            "Training until validation scores don't improve for 200 rounds.\n",
            "[100]\ttraining's multi_logloss: 0.994947\ttraining's weightedF1: 0.441635\tvalid_1's multi_logloss: 0.996627\tvalid_1's weightedF1: 0.439485\n",
            "[200]\ttraining's multi_logloss: 0.968693\ttraining's weightedF1: 0.466487\tvalid_1's multi_logloss: 0.97165\tvalid_1's weightedF1: 0.463671\n",
            "[300]\ttraining's multi_logloss: 0.953415\ttraining's weightedF1: 0.490738\tvalid_1's multi_logloss: 0.957565\tvalid_1's weightedF1: 0.487685\n",
            "[400]\ttraining's multi_logloss: 0.943474\ttraining's weightedF1: 0.504086\tvalid_1's multi_logloss: 0.94866\tvalid_1's weightedF1: 0.501299\n",
            "[500]\ttraining's multi_logloss: 0.936554\ttraining's weightedF1: 0.512113\tvalid_1's multi_logloss: 0.942693\tvalid_1's weightedF1: 0.508875\n",
            "[600]\ttraining's multi_logloss: 0.93143\ttraining's weightedF1: 0.517961\tvalid_1's multi_logloss: 0.938466\tvalid_1's weightedF1: 0.514305\n",
            "[700]\ttraining's multi_logloss: 0.927455\ttraining's weightedF1: 0.521589\tvalid_1's multi_logloss: 0.935326\tvalid_1's weightedF1: 0.517499\n",
            "[800]\ttraining's multi_logloss: 0.924257\ttraining's weightedF1: 0.525025\tvalid_1's multi_logloss: 0.932942\tvalid_1's weightedF1: 0.520544\n",
            "[900]\ttraining's multi_logloss: 0.921632\ttraining's weightedF1: 0.527805\tvalid_1's multi_logloss: 0.93112\tvalid_1's weightedF1: 0.522885\n",
            "[1000]\ttraining's multi_logloss: 0.919399\ttraining's weightedF1: 0.529511\tvalid_1's multi_logloss: 0.929678\tvalid_1's weightedF1: 0.524221\n",
            "[1100]\ttraining's multi_logloss: 0.917453\ttraining's weightedF1: 0.531246\tvalid_1's multi_logloss: 0.928501\tvalid_1's weightedF1: 0.526382\n",
            "[1200]\ttraining's multi_logloss: 0.915724\ttraining's weightedF1: 0.532941\tvalid_1's multi_logloss: 0.927524\tvalid_1's weightedF1: 0.527028\n",
            "[1300]\ttraining's multi_logloss: 0.914183\ttraining's weightedF1: 0.534675\tvalid_1's multi_logloss: 0.926722\tvalid_1's weightedF1: 0.528205\n",
            "[1400]\ttraining's multi_logloss: 0.912779\ttraining's weightedF1: 0.536117\tvalid_1's multi_logloss: 0.926063\tvalid_1's weightedF1: 0.52894\n",
            "[1500]\ttraining's multi_logloss: 0.91146\ttraining's weightedF1: 0.537342\tvalid_1's multi_logloss: 0.925494\tvalid_1's weightedF1: 0.529754\n",
            "[1600]\ttraining's multi_logloss: 0.910248\ttraining's weightedF1: 0.538538\tvalid_1's multi_logloss: 0.92499\tvalid_1's weightedF1: 0.529575\n",
            "[1700]\ttraining's multi_logloss: 0.909106\ttraining's weightedF1: 0.539446\tvalid_1's multi_logloss: 0.924569\tvalid_1's weightedF1: 0.530003\n",
            "[1800]\ttraining's multi_logloss: 0.908038\ttraining's weightedF1: 0.540533\tvalid_1's multi_logloss: 0.924215\tvalid_1's weightedF1: 0.530501\n",
            "[1900]\ttraining's multi_logloss: 0.907018\ttraining's weightedF1: 0.541672\tvalid_1's multi_logloss: 0.923917\tvalid_1's weightedF1: 0.530606\n",
            "[2000]\ttraining's multi_logloss: 0.906064\ttraining's weightedF1: 0.542572\tvalid_1's multi_logloss: 0.923672\tvalid_1's weightedF1: 0.530959\n",
            "[2100]\ttraining's multi_logloss: 0.905132\ttraining's weightedF1: 0.543233\tvalid_1's multi_logloss: 0.923427\tvalid_1's weightedF1: 0.531409\n",
            "[2200]\ttraining's multi_logloss: 0.904248\ttraining's weightedF1: 0.544227\tvalid_1's multi_logloss: 0.923227\tvalid_1's weightedF1: 0.53214\n",
            "[2300]\ttraining's multi_logloss: 0.903384\ttraining's weightedF1: 0.545203\tvalid_1's multi_logloss: 0.923056\tvalid_1's weightedF1: 0.532623\n",
            "[2400]\ttraining's multi_logloss: 0.902536\ttraining's weightedF1: 0.546014\tvalid_1's multi_logloss: 0.922877\tvalid_1's weightedF1: 0.533018\n",
            "[2500]\ttraining's multi_logloss: 0.901708\ttraining's weightedF1: 0.546841\tvalid_1's multi_logloss: 0.922693\tvalid_1's weightedF1: 0.533118\n",
            "[2600]\ttraining's multi_logloss: 0.900919\ttraining's weightedF1: 0.547443\tvalid_1's multi_logloss: 0.922574\tvalid_1's weightedF1: 0.53274\n",
            "Early stopping, best iteration is:\n",
            "[2487]\ttraining's multi_logloss: 0.901805\ttraining's weightedF1: 0.546595\tvalid_1's multi_logloss: 0.922714\tvalid_1's weightedF1: 0.53333\n",
            "\n",
            " Weighted F1 score of validation : 0.533329943873658\n",
            "\n",
            "->-> Fold ran for 8 minutes 42 seconds\n",
            "\n",
            "---- Fold 3 -----\n",
            "\n",
            "(131447, 34)\n",
            "Training until validation scores don't improve for 200 rounds.\n",
            "[100]\ttraining's multi_logloss: 0.995474\ttraining's weightedF1: 0.441261\tvalid_1's multi_logloss: 0.995221\tvalid_1's weightedF1: 0.442595\n",
            "[200]\ttraining's multi_logloss: 0.969324\ttraining's weightedF1: 0.46632\tvalid_1's multi_logloss: 0.969777\tvalid_1's weightedF1: 0.468637\n",
            "[300]\ttraining's multi_logloss: 0.954092\ttraining's weightedF1: 0.491493\tvalid_1's multi_logloss: 0.955302\tvalid_1's weightedF1: 0.49188\n",
            "[400]\ttraining's multi_logloss: 0.944212\ttraining's weightedF1: 0.50319\tvalid_1's multi_logloss: 0.946209\tvalid_1's weightedF1: 0.503435\n",
            "[500]\ttraining's multi_logloss: 0.937306\ttraining's weightedF1: 0.511512\tvalid_1's multi_logloss: 0.940079\tvalid_1's weightedF1: 0.512082\n",
            "[600]\ttraining's multi_logloss: 0.932175\ttraining's weightedF1: 0.518142\tvalid_1's multi_logloss: 0.935671\tvalid_1's weightedF1: 0.517163\n",
            "[700]\ttraining's multi_logloss: 0.928202\ttraining's weightedF1: 0.522146\tvalid_1's multi_logloss: 0.932435\tvalid_1's weightedF1: 0.520046\n",
            "[800]\ttraining's multi_logloss: 0.925052\ttraining's weightedF1: 0.525111\tvalid_1's multi_logloss: 0.929957\tvalid_1's weightedF1: 0.522229\n",
            "[900]\ttraining's multi_logloss: 0.922454\ttraining's weightedF1: 0.527546\tvalid_1's multi_logloss: 0.928061\tvalid_1's weightedF1: 0.524119\n",
            "[1000]\ttraining's multi_logloss: 0.920238\ttraining's weightedF1: 0.529571\tvalid_1's multi_logloss: 0.926532\tvalid_1's weightedF1: 0.525972\n",
            "[1100]\ttraining's multi_logloss: 0.918335\ttraining's weightedF1: 0.531239\tvalid_1's multi_logloss: 0.925317\tvalid_1's weightedF1: 0.526687\n",
            "[1200]\ttraining's multi_logloss: 0.916615\ttraining's weightedF1: 0.533677\tvalid_1's multi_logloss: 0.924268\tvalid_1's weightedF1: 0.52702\n",
            "[1300]\ttraining's multi_logloss: 0.915136\ttraining's weightedF1: 0.534857\tvalid_1's multi_logloss: 0.923425\tvalid_1's weightedF1: 0.528167\n",
            "[1500]\ttraining's multi_logloss: 0.912471\ttraining's weightedF1: 0.537063\tvalid_1's multi_logloss: 0.922088\tvalid_1's weightedF1: 0.528116\n",
            "[1600]\ttraining's multi_logloss: 0.911283\ttraining's weightedF1: 0.538219\tvalid_1's multi_logloss: 0.921532\tvalid_1's weightedF1: 0.52884\n",
            "[1700]\ttraining's multi_logloss: 0.910179\ttraining's weightedF1: 0.539015\tvalid_1's multi_logloss: 0.921063\tvalid_1's weightedF1: 0.529431\n",
            "[1800]\ttraining's multi_logloss: 0.909123\ttraining's weightedF1: 0.540151\tvalid_1's multi_logloss: 0.920658\tvalid_1's weightedF1: 0.529792\n",
            "[1900]\ttraining's multi_logloss: 0.908133\ttraining's weightedF1: 0.541133\tvalid_1's multi_logloss: 0.920327\tvalid_1's weightedF1: 0.530029\n",
            "[2000]\ttraining's multi_logloss: 0.907174\ttraining's weightedF1: 0.54201\tvalid_1's multi_logloss: 0.920009\tvalid_1's weightedF1: 0.530489\n",
            "[2100]\ttraining's multi_logloss: 0.906281\ttraining's weightedF1: 0.542888\tvalid_1's multi_logloss: 0.919744\tvalid_1's weightedF1: 0.530573\n",
            "[2200]\ttraining's multi_logloss: 0.905443\ttraining's weightedF1: 0.543947\tvalid_1's multi_logloss: 0.919485\tvalid_1's weightedF1: 0.531384\n",
            "[2300]\ttraining's multi_logloss: 0.904584\ttraining's weightedF1: 0.544645\tvalid_1's multi_logloss: 0.91926\tvalid_1's weightedF1: 0.531776\n",
            "[2400]\ttraining's multi_logloss: 0.903773\ttraining's weightedF1: 0.545539\tvalid_1's multi_logloss: 0.919072\tvalid_1's weightedF1: 0.531841\n",
            "[2500]\ttraining's multi_logloss: 0.902972\ttraining's weightedF1: 0.54639\tvalid_1's multi_logloss: 0.918888\tvalid_1's weightedF1: 0.531452\n",
            "[2600]\ttraining's multi_logloss: 0.902204\ttraining's weightedF1: 0.547006\tvalid_1's multi_logloss: 0.918734\tvalid_1's weightedF1: 0.531723\n",
            "[2700]\ttraining's multi_logloss: 0.901443\ttraining's weightedF1: 0.547606\tvalid_1's multi_logloss: 0.918607\tvalid_1's weightedF1: 0.531962\n",
            "[2800]\ttraining's multi_logloss: 0.900699\ttraining's weightedF1: 0.548145\tvalid_1's multi_logloss: 0.918517\tvalid_1's weightedF1: 0.532022\n",
            "[2900]\ttraining's multi_logloss: 0.899947\ttraining's weightedF1: 0.54879\tvalid_1's multi_logloss: 0.91839\tvalid_1's weightedF1: 0.532361\n",
            "[3000]\ttraining's multi_logloss: 0.89922\ttraining's weightedF1: 0.549634\tvalid_1's multi_logloss: 0.918284\tvalid_1's weightedF1: 0.532394\n",
            "[3100]\ttraining's multi_logloss: 0.898516\ttraining's weightedF1: 0.550068\tvalid_1's multi_logloss: 0.918183\tvalid_1's weightedF1: 0.532601\n",
            "Early stopping, best iteration is:\n",
            "[2950]\ttraining's multi_logloss: 0.89958\ttraining's weightedF1: 0.549319\tvalid_1's multi_logloss: 0.918342\tvalid_1's weightedF1: 0.532917\n",
            "\n",
            " Weighted F1 score of validation : 0.5329170155225149\n",
            "\n",
            "->-> Fold ran for 10 minutes 12 seconds\n",
            "\n",
            "---- Fold 4 -----\n",
            "\n",
            "(131448, 34)\n",
            "Training until validation scores don't improve for 200 rounds.\n",
            "[100]\ttraining's multi_logloss: 0.995326\ttraining's weightedF1: 0.441784\tvalid_1's multi_logloss: 0.995782\tvalid_1's weightedF1: 0.440367\n",
            "[200]\ttraining's multi_logloss: 0.969285\ttraining's weightedF1: 0.468032\tvalid_1's multi_logloss: 0.970139\tvalid_1's weightedF1: 0.465511\n",
            "[300]\ttraining's multi_logloss: 0.954142\ttraining's weightedF1: 0.490476\tvalid_1's multi_logloss: 0.955505\tvalid_1's weightedF1: 0.489399\n",
            "[400]\ttraining's multi_logloss: 0.944328\ttraining's weightedF1: 0.503891\tvalid_1's multi_logloss: 0.946175\tvalid_1's weightedF1: 0.500672\n",
            "[500]\ttraining's multi_logloss: 0.937473\ttraining's weightedF1: 0.512107\tvalid_1's multi_logloss: 0.939812\tvalid_1's weightedF1: 0.508803\n",
            "[600]\ttraining's multi_logloss: 0.932412\ttraining's weightedF1: 0.518019\tvalid_1's multi_logloss: 0.935278\tvalid_1's weightedF1: 0.512616\n",
            "[700]\ttraining's multi_logloss: 0.928499\ttraining's weightedF1: 0.522435\tvalid_1's multi_logloss: 0.931909\tvalid_1's weightedF1: 0.516534\n",
            "[800]\ttraining's multi_logloss: 0.925372\ttraining's weightedF1: 0.525441\tvalid_1's multi_logloss: 0.929359\tvalid_1's weightedF1: 0.51824\n",
            "[900]\ttraining's multi_logloss: 0.922768\ttraining's weightedF1: 0.527923\tvalid_1's multi_logloss: 0.927295\tvalid_1's weightedF1: 0.519974\n",
            "[1000]\ttraining's multi_logloss: 0.920545\ttraining's weightedF1: 0.529817\tvalid_1's multi_logloss: 0.925664\tvalid_1's weightedF1: 0.521256\n",
            "[1100]\ttraining's multi_logloss: 0.918602\ttraining's weightedF1: 0.531532\tvalid_1's multi_logloss: 0.924293\tvalid_1's weightedF1: 0.523241\n",
            "[1200]\ttraining's multi_logloss: 0.916913\ttraining's weightedF1: 0.532912\tvalid_1's multi_logloss: 0.923187\tvalid_1's weightedF1: 0.525642\n",
            "[1300]\ttraining's multi_logloss: 0.915419\ttraining's weightedF1: 0.534532\tvalid_1's multi_logloss: 0.922297\tvalid_1's weightedF1: 0.526329\n",
            "[1400]\ttraining's multi_logloss: 0.914023\ttraining's weightedF1: 0.536118\tvalid_1's multi_logloss: 0.921534\tvalid_1's weightedF1: 0.52709\n",
            "[1500]\ttraining's multi_logloss: 0.912759\ttraining's weightedF1: 0.53726\tvalid_1's multi_logloss: 0.920878\tvalid_1's weightedF1: 0.527194\n",
            "[1600]\ttraining's multi_logloss: 0.911573\ttraining's weightedF1: 0.538112\tvalid_1's multi_logloss: 0.920316\tvalid_1's weightedF1: 0.527096\n",
            "[1700]\ttraining's multi_logloss: 0.910503\ttraining's weightedF1: 0.539158\tvalid_1's multi_logloss: 0.919872\tvalid_1's weightedF1: 0.527769\n",
            "[1800]\ttraining's multi_logloss: 0.909425\ttraining's weightedF1: 0.540109\tvalid_1's multi_logloss: 0.919402\tvalid_1's weightedF1: 0.528317\n",
            "[1900]\ttraining's multi_logloss: 0.908394\ttraining's weightedF1: 0.541172\tvalid_1's multi_logloss: 0.919001\tvalid_1's weightedF1: 0.528541\n",
            "[2000]\ttraining's multi_logloss: 0.907426\ttraining's weightedF1: 0.542123\tvalid_1's multi_logloss: 0.918671\tvalid_1's weightedF1: 0.529431\n",
            "[2100]\ttraining's multi_logloss: 0.90652\ttraining's weightedF1: 0.542864\tvalid_1's multi_logloss: 0.918395\tvalid_1's weightedF1: 0.530016\n",
            "[2200]\ttraining's multi_logloss: 0.905657\ttraining's weightedF1: 0.543439\tvalid_1's multi_logloss: 0.918157\tvalid_1's weightedF1: 0.530538\n",
            "[2300]\ttraining's multi_logloss: 0.904821\ttraining's weightedF1: 0.544196\tvalid_1's multi_logloss: 0.917928\tvalid_1's weightedF1: 0.530536\n",
            "[2400]\ttraining's multi_logloss: 0.904005\ttraining's weightedF1: 0.544977\tvalid_1's multi_logloss: 0.917702\tvalid_1's weightedF1: 0.530655\n",
            "[2500]\ttraining's multi_logloss: 0.903191\ttraining's weightedF1: 0.545687\tvalid_1's multi_logloss: 0.917505\tvalid_1's weightedF1: 0.531491\n",
            "[2600]\ttraining's multi_logloss: 0.902419\ttraining's weightedF1: 0.546509\tvalid_1's multi_logloss: 0.917343\tvalid_1's weightedF1: 0.531468\n",
            "[2700]\ttraining's multi_logloss: 0.901637\ttraining's weightedF1: 0.546981\tvalid_1's multi_logloss: 0.917196\tvalid_1's weightedF1: 0.531542\n",
            "[2800]\ttraining's multi_logloss: 0.900863\ttraining's weightedF1: 0.547758\tvalid_1's multi_logloss: 0.917059\tvalid_1's weightedF1: 0.531701\n",
            "Early stopping, best iteration is:\n",
            "[2649]\ttraining's multi_logloss: 0.902038\ttraining's weightedF1: 0.546752\tvalid_1's multi_logloss: 0.917269\tvalid_1's weightedF1: 0.531806\n",
            "\n",
            " Weighted F1 score of validation : 0.5318058099330536\n",
            "\n",
            "->-> Fold ran for 9 minutes 12 seconds\n"
          ],
          "name": "stdout"
        }
      ]
    },
    {
      "cell_type": "markdown",
      "metadata": {
        "id": "4wao4nP89Y66",
        "colab_type": "text"
      },
      "source": [
        "1. Using Label Encoding only gives, \n",
        "    Validation => 0.5306331541374198 and \n",
        "    PLB => 0.528834747844148\n",
        "2. OHE + LE => Validation => 0.5314198938566443\n",
        "PLB => 0.53029803567004\n",
        "3. OHE + LE + FE(2 features added),\n",
        "Validation =>\n",
        "PLB =>"
      ]
    },
    {
      "cell_type": "code",
      "metadata": {
        "id": "5c_Q_Drk9Ylw",
        "colab_type": "code",
        "colab": {}
      },
      "source": [
        ""
      ],
      "execution_count": 0,
      "outputs": []
    },
    {
      "cell_type": "code",
      "metadata": {
        "id": "Xa3B60wps4C9",
        "colab_type": "code",
        "colab": {
          "base_uri": "https://localhost:8080/",
          "height": 34
        },
        "outputId": "65be4169-4262-4ec2-aa37-ee749167ed05"
      },
      "source": [
        "np.mean(f1_scores)"
      ],
      "execution_count": 102,
      "outputs": [
        {
          "output_type": "execute_result",
          "data": {
            "text/plain": [
              "0.5320451385730955"
            ]
          },
          "metadata": {
            "tags": []
          },
          "execution_count": 102
        }
      ]
    },
    {
      "cell_type": "code",
      "metadata": {
        "id": "MVoEI8ox2KWB",
        "colab_type": "code",
        "colab": {}
      },
      "source": [
        "ss['Interest_Rate'] = np.argmax([preds_test,preds_test1,preds_test2],axis=0) + 1"
      ],
      "execution_count": 0,
      "outputs": []
    },
    {
      "cell_type": "code",
      "metadata": {
        "id": "gUF1Phv_Gd7o",
        "colab_type": "code",
        "colab": {}
      },
      "source": [
        "ss.to_csv('Submission_9_LGBM_LabelEnc_OHE_LE_FE.csv',index=False)"
      ],
      "execution_count": 0,
      "outputs": []
    },
    {
      "cell_type": "code",
      "metadata": {
        "id": "mQpqI2K7w-Nj",
        "colab_type": "code",
        "outputId": "7626688c-30ea-46d3-b47b-d21f84aecc81",
        "colab": {
          "base_uri": "https://localhost:8080/",
          "height": 204
        }
      },
      "source": [
        "ss.head()"
      ],
      "execution_count": 0,
      "outputs": [
        {
          "output_type": "execute_result",
          "data": {
            "text/html": [
              "<div>\n",
              "<style scoped>\n",
              "    .dataframe tbody tr th:only-of-type {\n",
              "        vertical-align: middle;\n",
              "    }\n",
              "\n",
              "    .dataframe tbody tr th {\n",
              "        vertical-align: top;\n",
              "    }\n",
              "\n",
              "    .dataframe thead th {\n",
              "        text-align: right;\n",
              "    }\n",
              "</style>\n",
              "<table border=\"1\" class=\"dataframe\">\n",
              "  <thead>\n",
              "    <tr style=\"text-align: right;\">\n",
              "      <th></th>\n",
              "      <th>Loan_ID</th>\n",
              "      <th>Interest_Rate</th>\n",
              "    </tr>\n",
              "  </thead>\n",
              "  <tbody>\n",
              "    <tr>\n",
              "      <th>0</th>\n",
              "      <td>10164310</td>\n",
              "      <td>2</td>\n",
              "    </tr>\n",
              "    <tr>\n",
              "      <th>1</th>\n",
              "      <td>10164311</td>\n",
              "      <td>1</td>\n",
              "    </tr>\n",
              "    <tr>\n",
              "      <th>2</th>\n",
              "      <td>10164312</td>\n",
              "      <td>2</td>\n",
              "    </tr>\n",
              "    <tr>\n",
              "      <th>3</th>\n",
              "      <td>10164313</td>\n",
              "      <td>2</td>\n",
              "    </tr>\n",
              "    <tr>\n",
              "      <th>4</th>\n",
              "      <td>10164314</td>\n",
              "      <td>2</td>\n",
              "    </tr>\n",
              "  </tbody>\n",
              "</table>\n",
              "</div>"
            ],
            "text/plain": [
              "    Loan_ID  Interest_Rate\n",
              "0  10164310              2\n",
              "1  10164311              1\n",
              "2  10164312              2\n",
              "3  10164313              2\n",
              "4  10164314              2"
            ]
          },
          "metadata": {
            "tags": []
          },
          "execution_count": 152
        }
      ]
    },
    {
      "cell_type": "code",
      "metadata": {
        "id": "aHAZvnbAGdhs",
        "colab_type": "code",
        "outputId": "3a62ea15-6350-4c53-e6a6-7d53464a9d31",
        "colab": {
          "base_uri": "https://localhost:8080/",
          "height": 561
        }
      },
      "source": [
        "drop_cols"
      ],
      "execution_count": 0,
      "outputs": [
        {
          "output_type": "execute_result",
          "data": {
            "text/plain": [
              "['Home_Owner_Mortgage',\n",
              " 'Purpose_Of_Loan_other',\n",
              " 'feature30',\n",
              " 'Purpose_Of_Loan_car',\n",
              " 'Gender',\n",
              " 'Purpose_Of_Loan_moving',\n",
              " 'Purpose_Of_Loan_major_purchase',\n",
              " 'Home_Owner_Own',\n",
              " 'Purpose_Of_Loan_medical',\n",
              " 'feature19',\n",
              " 'Purpose_Of_Loan_house',\n",
              " 'feature21',\n",
              " 'Purpose_Of_Loan_home_improvement',\n",
              " 'Purpose_Of_Loan_wedding',\n",
              " 'feature28',\n",
              " 'Home_Owner_Other',\n",
              " 'Income_Verified_not verified',\n",
              " 'feature11',\n",
              " 'Purpose_Of_Loan_educational',\n",
              " 'feature15',\n",
              " 'feature3',\n",
              " 'Income_Verified_VERIFIED - income',\n",
              " 'Purpose_Of_Loan_debt_consolidation',\n",
              " 'feature26',\n",
              " 'feature29',\n",
              " 'feature27',\n",
              " 'feature13',\n",
              " 'feature25',\n",
              " 'Purpose_Of_Loan_small_business',\n",
              " 'Purpose_Of_Loan_vacation',\n",
              " 'feature17',\n",
              " 'feature9']"
            ]
          },
          "metadata": {
            "tags": []
          },
          "execution_count": 96
        }
      ]
    },
    {
      "cell_type": "code",
      "metadata": {
        "id": "eHHMLKpCyauf",
        "colab_type": "code",
        "colab": {}
      },
      "source": [
        ""
      ],
      "execution_count": 0,
      "outputs": []
    }
  ]
}